{
 "cells": [
  {
   "cell_type": "code",
   "execution_count": 1,
   "metadata": {},
   "outputs": [],
   "source": [
    "# imports:\n",
    "from  random import randint ,choice ,random ,choices\n",
    "import numpy as np\n",
    "import copy \n",
    "from math import floor\n",
    "# from sklearn.metrics import mean_squared_error"
   ]
  },
  {
   "cell_type": "code",
   "execution_count": 2,
   "metadata": {},
   "outputs": [],
   "source": [
    "# global variables:\n",
    "unary_operators_list =list([\"sin\" , \"cos\" , \"tan\" , \"cot\" , \"exp\" ])\n",
    "binary_operators_list =list([\"+\" , \"-\" , \"/\" , \"*\" , \"**\"])\n",
    "\n",
    "# user's values:\n",
    "operators_list =[\"+\" , \"-\" ]*5+\\\n",
    "[\"/\" , \"*\" ]* 4 +\\\n",
    "[ \"**\"  ]*0 +\\\n",
    "[ \"sin\" ,\"cos\" , \"tan\" , \"cot\" , \"exp\"]*0   #user can change the quantity of operators based on function determination of complexity.\n",
    "users_variables = [\"x\"]             #what variables our function does have\n",
    "min_operatos_num = 1                #determine how many operators do we need in our function(create n operators between these 2 variables.)\n",
    "max_operatos_num =5\n",
    "variable_or_constant_factor = 0.3   #a factor that determines to use constant or a variale in leaf node of the tree .the closer value to 0 the more constants will appear in your function.(must be between 0 and1)\n",
    "depth_or_breadth_factor = 0.5       #a factor that determines to fill both sides of the operator on not. the more closer to 0 tree will get filled in breadth not depth. (must be between 0 and1)\n",
    "                                    # for example: closer to 0: (((x*10)+2)-5)/3      closer to 1: ((x*10)+2) - ((x-5)\\3)\n",
    "min_constant_limit = 0              #determine that constants must be in what period.\n",
    "max_constant_limit =50            \n",
    "num_of_population_in_a_gen = 50     #how many trees should be included in each generation.\n",
    "num_of_gens =3                      #how many geneerations should be excluded\n",
    "# function values:\n",
    "sample_values = {                   #user must enter some values in spots to \n",
    "    \"x\" : [i for i in range(0,10)] ,\n",
    "    # \"outputs\" : [0,1,4,9,16]        #can be skipped with replacing function in function below.\n",
    "}\n",
    "real_function_str = \"x**2 + 1 \"      #what function is."
   ]
  },
  {
   "cell_type": "code",
   "execution_count": 3,
   "metadata": {},
   "outputs": [],
   "source": [
    "# funtion to  fill sample[\"output\"] for 1 variable:\n",
    "def fill_sample_output(func_str = real_function_str):\n",
    "    temp_list = []\n",
    "    for x_val in sample_values[\"x\"]:\n",
    "        temp_str = func_str.replace(\"x\" , str(x_val))\n",
    "        temp_val =eval(temp_str)\n",
    "        temp_list.append(temp_val)\n",
    "    sample_values[\"outputs\"]  =temp_list\n",
    "    # return temp_list"
   ]
  },
  {
   "cell_type": "code",
   "execution_count": 4,
   "metadata": {},
   "outputs": [],
   "source": [
    "fill_sample_output()"
   ]
  },
  {
   "cell_type": "code",
   "execution_count": 5,
   "metadata": {},
   "outputs": [],
   "source": [
    "class Node():\n",
    "    def __init__(self , value=None , used=0, father=None , right=None ,left=None , depth = 0 ):\n",
    "        self.father =father\n",
    "        self.right = right\n",
    "        self.left = left\n",
    "        self.depth =depth\n",
    "        self.used = used\n",
    "        self._value = value\n",
    "        # self.is_operator = new_value in operators_list\n",
    "        self.is_op()\n",
    "        self.is_binary_op()\n",
    "    \n",
    "    def set_random_op(self):\n",
    "        new_value= choice(operators_list)                \n",
    "        self.value=new_value \n",
    "    def is_binary_op(self):\n",
    "        self.is_binary = self.value in binary_operators_list\n",
    "    def is_op(self  ):\n",
    "        self.is_operator = self.value in operators_list\n",
    "    \n",
    "    @property\n",
    "    def value(self):\n",
    "        return self._value \n",
    "    @value.setter\n",
    "    def value(self, new_value=None):\n",
    "        self._value = new_value\n",
    "        self.is_operator = new_value in operators_list\n",
    "        self.is_binary = new_value in binary_operators_list\n",
    "        # self.is_binary()\n",
    "        # self.is_op()\n",
    "        \n",
    "    def __repr__(self) -> str:\n",
    "        return f\"(V:{self.value} L:{self.left} R:{self.right})\"\n",
    "    def __str__(self) -> str:\n",
    "        if self.left == None and self.right==None :                                          #constant or variable\n",
    "            return str(self.value)\n",
    "        elif self.value in binary_operators_list:                                            #binary operator\n",
    "            return  f\"({self.left} {self.value} {self.right})\"\n",
    "        else:                                                                                #unary operator                                        \n",
    "            return f\"{self.value} ({self.left}) \""
   ]
  },
  {
   "cell_type": "code",
   "execution_count": 6,
   "metadata": {},
   "outputs": [],
   "source": [
    "class Tree():\n",
    "    def __init__(self ,  root:Node , nodes:list , MSE = -100000 ):\n",
    "        self.root = root \n",
    "        self.MSE = MSE\n",
    "        self.nodes = list(nodes)\n",
    "        # self.nodes.append(root)\n",
    "    def add_left_child(self , father_node:Node , left_val:str):\n",
    "        left_node  = Node(value=left_val ,father = father_node)\n",
    "        father_node.left = left_node\n",
    "        left_node.depth = father_node.depth +1\n",
    "        self.nodes.append(left_node)\n",
    "    def add_right_child(self , father_node:Node , right_val:str):\n",
    "        right_node = Node(value=right_val, father = father_node)\n",
    "        father_node.right = right_node\n",
    "        right_node.depth  = father_node.depth +1\n",
    "        self.nodes.append(right_node)\n",
    "    def __repr__(self) -> str:\n",
    "        return f\"tree[ {self.root} ] \"\n",
    "    def __str__(self) -> str:\n",
    "        return f\"{self.root}\""
   ]
  },
  {
   "cell_type": "code",
   "execution_count": 7,
   "metadata": {},
   "outputs": [],
   "source": [
    "def create_random_tree():\n",
    "    num_of_ops = randint(min_operatos_num , max_operatos_num)\n",
    "    unattached_nodes =list([Node() for _ in range(num_of_ops-1)])\n",
    "    root_node = Node(father=\"is_root\",used=0 ,depth=0,value=choice(operators_list))          \n",
    "    attached_nodes= list([root_node])                                                                       #a node gets attached when it has a parent\n",
    "    # creating a random tree with operators:\n",
    "    # print(\"test r:\",root_node ,\"n.o.o:\",num_of_ops , \"a:\", attached_nodes , \"u:\" , unattached_nodes )     #>>>for logging\n",
    "    while unattached_nodes !=[]:\n",
    "        # print(\"***first loop\")                                                                            #>>>for logging\n",
    "        node =choice(attached_nodes)\n",
    "        if node.used == 0:                                                                                  #node is binary operator.\n",
    "            if node.value == None:                                                                          #sometimes it is already set in previous loop.\n",
    "                node.value = choice(operators_list)            \n",
    "            if node.value in binary_operators_list:\n",
    "                if random()< depth_or_breadth_factor and len(unattached_nodes)>1:                           #fill both childs\n",
    "                    child1 = unattached_nodes.pop()\n",
    "                    child2 = unattached_nodes.pop()\n",
    "                    child1.set_random_op()\n",
    "                    child2.set_random_op()\n",
    "                    node.left =child1\n",
    "                    node.right =child2\n",
    "                    child2.depth , child1.depth =node.depth +1,node.depth +1\n",
    "                    child1.father , child2.father = node  , node\n",
    "                    node.used = 1\n",
    "                    attached_nodes.append(child1)\n",
    "                    attached_nodes.append(child2)\n",
    "                else:                                                                                       #fill one child\n",
    "                    child = unattached_nodes.pop()\n",
    "                    child.set_random_op()\n",
    "                    if random()<0.5:\n",
    "                        node.left = child\n",
    "                    else:\n",
    "                        node.right = child\n",
    "                    child.depth =node.depth +1\n",
    "                    node.used =1\n",
    "                    child.father = node\n",
    "                    attached_nodes.append(child)\n",
    "            else:                                                                                          #node is unary operator.\n",
    "                child = unattached_nodes.pop()\n",
    "                child.set_random_op()\n",
    "                node.left =child\n",
    "                child.depth =node.depth +1\n",
    "                node.used=1\n",
    "                child.father = node\n",
    "                attached_nodes.append(child)\n",
    "    # print(\"after op nodes set: a:\" ,attached_nodes ,\"u:\",unattached_nodes )                              #>>>for logging\n",
    "    new_attached_nodes = []\n",
    "    # adding values and constants to leaf nodes\n",
    "    for node in attached_nodes:\n",
    "        # print(\"in second loop; a:\" ,attached_nodes ,\"u:\",unattached_nodes )                              #>>>for logging\n",
    "        if node.right ==None :                                                                             #right node is empty  \n",
    "            choose_const_or_var = random()                                                                 # **note:think that it woulld get into troubles when it comes to unary operators.\n",
    "            if  choose_const_or_var>variable_or_constant_factor:                                           #fill with constant\n",
    "                temp_value = randint(min_constant_limit , max_constant_limit)                                                           \n",
    "                temp_node = Node(value=temp_value ,father=node , depth=node.depth+1)                        \n",
    "                node.right = temp_node\n",
    "                new_attached_nodes.append(temp_node)\n",
    "            else:                                                                                          #fill with variable                                  \n",
    "                temp_value = choice(users_variables)\n",
    "                temp_node = Node(value=temp_value ,father=node , depth=node.depth+1)\n",
    "                node.right = temp_node\n",
    "                new_attached_nodes.append(temp_node)\n",
    "        if node.left ==None :                                                                              #left node is empty\n",
    "            choose_const_or_var = random()\n",
    "            if choose_const_or_var>variable_or_constant_factor:                                            #fill with constant\n",
    "                temp_value = randint(min_constant_limit , max_constant_limit)\n",
    "                temp_node = Node(value=temp_value ,father=node , depth=node.depth+1)\n",
    "                node.left = temp_node\n",
    "                new_attached_nodes.append(temp_node)\n",
    "            else:                                                                                          #fill with variable                                  \n",
    "                temp_value = choice(users_variables)\n",
    "                temp_node = Node(value=temp_value ,father=node , depth=node.depth+1)\n",
    "                node.left = temp_node\n",
    "                new_attached_nodes.append(temp_node)\n",
    "    nodes  = list(attached_nodes + new_attached_nodes)\n",
    "    # print(\"len:\",len(nodes),\"nodes:\",nodes)   \\n\",                                                       #>>>for logging\n",
    "    temp_tree = Tree(root= root_node ,nodes = nodes)\n",
    "    # print( \"at last a:\" ,attached_nodes ,\"u:\",unattached_nodes )                                         #>>>for logging\n",
    "    \n",
    "    return temp_tree"
   ]
  },
  {
   "cell_type": "code",
   "execution_count": 8,
   "metadata": {},
   "outputs": [],
   "source": [
    "def create_generation(num_of_population =num_of_population_in_a_gen ):\n",
    "    trees_list_this_gen = []\n",
    "    # create the genaration from create_random_tree()\n",
    "    for i in range(num_of_population):\n",
    "        temp_tree = create_random_tree()\n",
    "        trees_list_this_gen.append(temp_tree)\n",
    "    return trees_list_this_gen"
   ]
  },
  {
   "cell_type": "code",
   "execution_count": 9,
   "metadata": {},
   "outputs": [],
   "source": [
    "# a function that returns a list of answers of the tree in a list format. (uses for one tree)\n",
    "def find_outputs_of_tree(tree:Tree):\n",
    "    answers_list = []\n",
    "    for x_val in sample_values[\"x\"]:\n",
    "        try:\n",
    "            func_str =  str(tree).replace(\"x\" ,str(x_val))\n",
    "            temp_ans = eval(func_str)\n",
    "            answers_list.append(temp_ans)\n",
    "            # print(\"for logging:\" , tree ,\"|||\",x_val , answers_list )                                               #>>>for logging\n",
    "        except :ZeroDivisionError                   #because of division by zero error used this exception.\n",
    "    return answers_list"
   ]
  },
  {
   "cell_type": "code",
   "execution_count": 10,
   "metadata": {},
   "outputs": [],
   "source": [
    "# a function that returns fitness of a tree . the real function is saved in a global dictionary named sample_values[\"outpusts\"]\n",
    "def find_fitness(functions_answers , real_answers=sample_values[\"outputs\"]):\n",
    "    try:\n",
    "        # fitness = -1* mean_squared_error(real_answers, functions_answers)\n",
    "        fitness= np.square(np.subtract(real_answers,functions_answers)).mean()  #MSE\n",
    "        # if fitness >10000: fitness = 1000\n",
    "        fitness = -1* fitness\n",
    "    except :                                                                                    \n",
    "        # raise ValueError(\"MSE function did not worked correctly.\")\n",
    "        fitness  = -1000000\n",
    "    return fitness"
   ]
  },
  {
   "cell_type": "code",
   "execution_count": 53,
   "metadata": {},
   "outputs": [],
   "source": [
    "def crossover(tree1:Tree , node_that_change:Node , node_that_will_be:Node ):\n",
    "    temp_tree =  copy.deepcopy(tree1)\n",
    "    print(temp_tree ,\"->\", end=\" \\n\")\n",
    "    selected_node = None\n",
    "    for node in tree1.nodes:                                                            #**note that it doesnt handle inside of the father.nodes list yet.\n",
    "        if node == node_that_change:\n",
    "            print(\"****found dest node\\tnode: \" , node)\n",
    "            selected_node = copy.deepcopy(node)\n",
    "            # print(node.__dict__)\n",
    "            if node.father.left == node_that_change :\n",
    "                print(\"father is changed. \")\n",
    "                node.father.left = node_that_will_be\n",
    "            elif node.father.right == node_that_change:\n",
    "                print(\"father is changed. \")\n",
    "                node.father.right = node_that_will_be\n",
    "            break\n",
    "    selected_node=copy.deepcopy(node_that_will_be)\n",
    "    print(\"-> \" , temp_tree)\n",
    "    print(\"selected node:\" ,selected_node )\n",
    "    return temp_tree"
   ]
  },
  {
   "cell_type": "code",
   "execution_count": 25,
   "metadata": {},
   "outputs": [],
   "source": [
    "def select_to_crossover():\n",
    "    pass"
   ]
  },
  {
   "cell_type": "code",
   "execution_count": 13,
   "metadata": {},
   "outputs": [],
   "source": [
    "\"\"\"block that handles the crossovers with functions that defined. \"\"\"\n",
    "for gen in range(num_of_gens-1):\n",
    "    trees_in_gen = create_generation()\n",
    "    fitness_list = []   #uses as weight in choice()\n",
    "    # print(trees_in_gen)\n",
    "    for tree in trees_in_gen:\n",
    "        trees_func_answers = find_outputs_of_tree(tree)\n",
    "        trees_fitness = find_fitness(trees_func_answers)\n",
    "        # print(\"fitness:{} tree:\".format(trees_fitness) , tree)                                          #>>>for logging\n",
    "        if trees_fitness in range(-10 , 10) : print(\"good tree with fitness:{} found:\".format(trees_fitness) , tree)  #>>>for logging . IDK why some fitnesses are big positive integers.\n",
    "        fitness_list.append(trees_fitness) \n",
    "    new_gen = []\n",
    "    parents_who_survive = choices(trees_in_gen , weights=fitness_list,k=floor(0.2*num_of_population_in_a_gen))       #parent trees that should be in new generation \n",
    "    new_gen+=parents_who_survive\n",
    "    for _ in range(floor(0.8*num_of_population_in_a_gen)):\n",
    "        tree1 , tree2 = choices(trees_in_gen , weights = fitness_list , k=2)\n",
    "        temp_node= choice(tree1.nodes)\n",
    "        node1 = copy.deepcopy(temp_node)                #develop crossover function \n",
    "        temp_node=choice(tree2.nodes)\n",
    "        node2 = copy.deepcopy(temp_node)\n",
    "        \n"
   ]
  },
  {
   "cell_type": "code",
   "execution_count": 14,
   "metadata": {},
   "outputs": [],
   "source": [
    "sample_tree1 = create_random_tree()\n",
    "sample_tree2 = create_random_tree()"
   ]
  },
  {
   "cell_type": "code",
   "execution_count": 54,
   "metadata": {},
   "outputs": [],
   "source": [
    "# testing \n",
    "fitness1 =find_fitness(find_outputs_of_tree(sample_tree1 ))\n",
    "fitness2 = find_fitness(find_outputs_of_tree(sample_tree2 ))"
   ]
  },
  {
   "cell_type": "code",
   "execution_count": null,
   "metadata": {},
   "outputs": [],
   "source": []
  },
  {
   "cell_type": "code",
   "execution_count": 55,
   "metadata": {},
   "outputs": [
    {
     "name": "stdout",
     "output_type": "stream",
     "text": [
      "(((31 + 37) / 27) / (43 - 49)) [(V:/ L:((31 + 37) / 27) R:(43 - 49)), (V:/ L:(31 + 37) R:27), (V:- L:43 R:49), (V:+ L:31 R:37), (V:27 L:None R:None), (V:49 L:None R:None), (V:43 L:None R:None), (V:37 L:None R:None), (V:31 L:None R:None)]\n",
      "(x - (49 / 34)) [(V:- L:x R:(49 / 34)), (V:/ L:49 R:34), (V:x L:None R:None), (V:34 L:None R:None), (V:49 L:None R:None)]\n"
     ]
    }
   ],
   "source": [
    "print( sample_tree1, sample_tree1.nodes) \n",
    "print(sample_tree2, sample_tree2.nodes) "
   ]
  },
  {
   "cell_type": "code",
   "execution_count": 56,
   "metadata": {},
   "outputs": [],
   "source": [
    "node_1 = sample_tree1.nodes[1]\n",
    "node_2 = sample_tree2.nodes[3]"
   ]
  },
  {
   "cell_type": "code",
   "execution_count": 58,
   "metadata": {},
   "outputs": [
    {
     "data": {
      "text/plain": [
       "{'father': (V:/ L:((31 + 37) / 27) R:(43 - 49)),\n",
       " 'right': (V:27 L:None R:None),\n",
       " 'left': (V:+ L:31 R:37),\n",
       " 'depth': 1,\n",
       " 'used': 1,\n",
       " '_value': '/',\n",
       " 'is_operator': True,\n",
       " 'is_binary': True}"
      ]
     },
     "execution_count": 58,
     "metadata": {},
     "output_type": "execute_result"
    }
   ],
   "source": [
    "node_1.father.left.__dict__ "
   ]
  },
  {
   "cell_type": "code",
   "execution_count": 59,
   "metadata": {},
   "outputs": [
    {
     "data": {
      "text/plain": [
       "{'father': (V:/ L:((31 + 37) / 27) R:(43 - 49)),\n",
       " 'right': (V:27 L:None R:None),\n",
       " 'left': (V:+ L:31 R:37),\n",
       " 'depth': 1,\n",
       " 'used': 1,\n",
       " '_value': '/',\n",
       " 'is_operator': True,\n",
       " 'is_binary': True}"
      ]
     },
     "execution_count": 59,
     "metadata": {},
     "output_type": "execute_result"
    }
   ],
   "source": [
    "node_1.__dict__"
   ]
  },
  {
   "cell_type": "code",
   "execution_count": 61,
   "metadata": {},
   "outputs": [
    {
     "data": {
      "text/plain": [
       "False"
      ]
     },
     "execution_count": 61,
     "metadata": {},
     "output_type": "execute_result"
    }
   ],
   "source": [
    "node_1.father.left == node_1"
   ]
  },
  {
   "cell_type": "code",
   "execution_count": 62,
   "metadata": {},
   "outputs": [
    {
     "name": "stdout",
     "output_type": "stream",
     "text": [
      "(((31 + 37) / 27) / (43 - 49)) -> \n",
      "****found dest node\tnode:  ((31 + 37) / 27)\n",
      "{'father': (V:/ L:((31 + 37) / 27) R:(43 - 49)), 'right': (V:27 L:None R:None), 'left': (V:+ L:31 R:37), 'depth': 1, 'used': 1, '_value': '/', 'is_operator': True, 'is_binary': True}\n",
      "->  (((31 + 37) / 27) / (43 - 49))\n",
      "selected node: 34\n"
     ]
    }
   ],
   "source": [
    "tree_from_crossover = crossover(sample_tree1 , node_that_change= node_1 ,node_that_will_be= node_2)"
   ]
  },
  {
   "cell_type": "code",
   "execution_count": 63,
   "metadata": {},
   "outputs": [
    {
     "data": {
      "text/plain": [
       "tree[ (((31 + 37) / 27) / (43 - 49)) ] "
      ]
     },
     "execution_count": 63,
     "metadata": {},
     "output_type": "execute_result"
    }
   ],
   "source": [
    "tree_from_crossover\n"
   ]
  },
  {
   "cell_type": "markdown",
   "metadata": {},
   "source": [
    "\n",
    "# Failed functions and useless codes\n",
    "----------------------------"
   ]
  },
  {
   "cell_type": "markdown",
   "metadata": {},
   "source": [
    "##### Instance: (3 * x) + (x-4)\n",
    "#### create tree from : + * - 3 x x 4\n",
    "\n",
    "\n"
   ]
  },
  {
   "cell_type": "code",
   "execution_count": 25,
   "metadata": {},
   "outputs": [],
   "source": [
    "def calculate(node:Node):\n",
    "    # node = tree.root\n",
    "    if node.is_operator:\n",
    "        return f\"( ({calculate(node.left)} ) {node.value} ( {calculate(node.right)}) )\"\n",
    "    return node.value"
   ]
  },
  {
   "cell_type": "code",
   "execution_count": null,
   "metadata": {},
   "outputs": [],
   "source": [
    "# def create_tree(tree:Tree , parse_input:str ):\n",
    "#     inputs = parse_input.split(\" \")\n",
    "#     # twos_submultiples = [2**i for i in range(5) ]\n",
    "#     index = 0\n",
    "#     tree_spaces = []\n",
    "#     # make space for each level and fill them with inputs\n",
    "#     for i in range(5):\n",
    "#         tmp = []\n",
    "#         for j in range(2**i) :\n",
    "#             if index<len(inputs):\n",
    "#                 tmp.append(inputs[index])\n",
    "#                 index +=1\n",
    "#         tree_spaces.append(tmp)\n",
    "#     index = 0\n",
    "#     for i in range(5):\n",
    "#         tmp_index = 0\n",
    "#         tmp_child_detector = \"l\"\n",
    "#         for j in range(i**2):\n",
    "#             if index<len(inputs):\n",
    "#                 if tree_spaces[i][j] in operators_set:\n",
    "#                     if tmp_child_detector ==\"l\":    \n",
    "#                         tmp_child_detector = \"r\"\n",
    "#                     elif tmp_child_detector==\"r\":\n",
    "#                         tmp_child_detector = \"l\""
   ]
  },
  {
   "cell_type": "code",
   "execution_count": null,
   "metadata": {},
   "outputs": [],
   "source": [
    "# root_node = Node(value=\"+\" )\n",
    "# first_tree = Tree(root_node)\n",
    "# create_tree(first_tree, \"+ * - 3 x x 4\")"
   ]
  },
  {
   "cell_type": "code",
   "execution_count": null,
   "metadata": {},
   "outputs": [],
   "source": [
    "# first_tree.add_left_child(\"+\")\n",
    "# first_tree.add_left_child(\"-\")"
   ]
  },
  {
   "cell_type": "code",
   "execution_count": null,
   "metadata": {},
   "outputs": [],
   "source": [
    "\"\"\"failed create_tree function \"\"\"\n",
    "# def create_tree(tree:Tree , parse_input:str , root_node:Node):\n",
    "#     current_op = None\n",
    "#     reserved_op = None\n",
    "#     node = root_node\n",
    "#     inputs = list(parse_input.split(\" \"))\n",
    "#     # current_op =inputs[0]  if inputs[0] in operators_set else None\n",
    "#     # reserved_op = inputs[1] if inputs[1] in operators_set else None\n",
    "    \n",
    "#     num_index = 0\n",
    "#     while True:\n",
    "#         if inputs[num_index] not in operators_set :\n",
    "#             num_index +=1\n",
    "#         else :\n",
    "#             break\n",
    "#     op_index =0\n",
    "    \n",
    "#     while(True):\n",
    "#         if (reserved_op in operators_set):\n",
    "#             tree.add_left_child(node , inputs[num_index])\n",
    "#             tree.add_left_child(node , inputs[num_index+1])\n",
    "#             num_index = num_index+2\n",
    "#             if inputs[op_index] in operators_set: \n",
    "#                 node = \n",
    "#                 op_index +=1\n",
    "#             else:\n",
    "#                 break\n"
   ]
  },
  {
   "cell_type": "code",
   "execution_count": null,
   "metadata": {},
   "outputs": [],
   "source": [
    "\"\"\"tree_spaces: [[1] [2] [4] [8]]\"\"\"\n",
    "\n",
    "# tree_spaces = []\n",
    "# for i in range(5):\n",
    "#     tmp = [None for i in range(2**i)]\n",
    "#     tree_spaces.append(tmp)\n",
    "        \n",
    "# tree_spaces "
   ]
  }
 ],
 "metadata": {
  "kernelspec": {
   "display_name": "Python 3.8.10 64-bit",
   "language": "python",
   "name": "python3"
  },
  "language_info": {
   "codemirror_mode": {
    "name": "ipython",
    "version": 3
   },
   "file_extension": ".py",
   "mimetype": "text/x-python",
   "name": "python",
   "nbconvert_exporter": "python",
   "pygments_lexer": "ipython3",
   "version": "3.8.10"
  },
  "orig_nbformat": 4,
  "vscode": {
   "interpreter": {
    "hash": "6a926afa313b26ae1264fdcf81c726a97e69f6ba2ba780f6aa901948710f8d6e"
   }
  }
 },
 "nbformat": 4,
 "nbformat_minor": 2
}
