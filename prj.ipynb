{
 "cells": [
  {
   "cell_type": "code",
   "execution_count": 41,
   "metadata": {},
   "outputs": [],
   "source": [
    "# imports:\n",
    "from  random import randint ,choice ,random"
   ]
  },
  {
   "cell_type": "code",
   "execution_count": 42,
   "metadata": {},
   "outputs": [],
   "source": [
    "# global variables:\n",
    "operators_list =list([\"+\" , \"-\" , \"/\" , \"*\" , \"**\" ,\"sin\" , \"cos\" , \"tan\" , \"cot\" , \"exp\"])\n",
    "unery_operators_list =list([\"sin\" , \"cos\" , \"tan\" , \"cot\" , \"exp\" ])\n",
    "binery_operators_list =list([\"+\" , \"-\" , \"/\" , \"*\" , \"**\"])\n",
    "# user's values:\n",
    "users_variables = list([\"x\"])        #how many variables our function does have\n",
    "min_operatos_num = 1                #determine how many operators do we need in our function(create n operators between these 2 variables.)\n",
    "max_operatos_num =3\n",
    "value_or_constant_factor = 0.3      #a factor that determines to use constant or a variale in leaf node of the tree .the closer value to 0 the more constants will appear in your function.(must be between 0 and1)\n",
    "depth_or_breadth_factor = 0.5       #a factor that determines to fill both sides of the operator on not. the more closer to 0 tree will get filled in breadth not depth. (must be between 0 and1)\n",
    "                                    # for example: closer to 0: (((x*10)+2)-5)/3      closer to 1: ((x*10)+2) - ((x-5)\\3)\n",
    "min_constant_limit = 0              #determine that constants must be in what period.\n",
    "max_constant_limit =100             "
   ]
  },
  {
   "cell_type": "code",
   "execution_count": 60,
   "metadata": {},
   "outputs": [],
   "source": [
    "class Node():\n",
    "    def __init__(self , value=None ,used=0, father=None , right=None ,left=None , depth = 0 ):\n",
    "        self.is_operator = value in operators_list\n",
    "        self.value = value\n",
    "        self.father =father\n",
    "        self.right = right\n",
    "        self.left = left\n",
    "        self.depth =depth\n",
    "        self.used = used\n",
    "    \n",
    "    def __str__(self) -> str:\n",
    "        if self.left == None :                                          #constant or variable\n",
    "            return str(self.value)\n",
    "        elif self.value in binery_operators_list:                       #binary operator\n",
    "            return  f\"({self.left} {self.value} {self.right})\"\n",
    "        else:\n",
    "            return f\"{self.value} ({self.left}) \""
   ]
  },
  {
   "cell_type": "code",
   "execution_count": 61,
   "metadata": {},
   "outputs": [],
   "source": [
    "class Tree():\n",
    "    def __init__(self ,  root:Node , nodes:set , MSE = 100000 ):\n",
    "        self.root = root \n",
    "        self.MSE = MSE\n",
    "        self.nodes = set()\n",
    "        self.nodes.add(root)\n",
    "    def add_left_child(self , father_node:Node , left_val:str):\n",
    "        left_node  = Node(value=left_val ,father = father_node)\n",
    "        father_node.left = left_node\n",
    "        left_node.depth = father_node.depth +1\n",
    "        self.nodes.add(left_node)\n",
    "    def add_right_child(self , father_node:Node , right_val:str):\n",
    "        right_node = Node(value=right_val, father = father_node)\n",
    "        father_node.right = right_node\n",
    "        right_node.depth  = father_node.depth +1\n",
    "        self.nodes.add(right_node)\n",
    "    def __str__(self) -> str:\n",
    "        return f\"tree is:{self.root}\""
   ]
  },
  {
   "cell_type": "code",
   "execution_count": 73,
   "metadata": {},
   "outputs": [],
   "source": [
    "def create_random_tree():\n",
    "    num_of_ops = randint(min_operatos_num , max_operatos_num)\n",
    "    unattached_nodes =[Node() for _ in range(num_of_ops-1)]\n",
    "    root_node = Node(father=\"is_root\",used=0 ,depth=0,value=choice(binery_operators_list))          \n",
    "    attached_nodes= [root_node]                                 #a nnode gets attached when it has a parent\n",
    "    # creating a random tree with operators:\n",
    "    print(\"random shit for test\",root_node ,num_of_ops, unattached_nodes, attached_nodes)\n",
    "    while unattached_nodes !=[]:\n",
    "        print(\"***\")\n",
    "        # note that: doesn't include the unary operators yet!\n",
    "        node =choice(attached_nodes)\n",
    "        if node.used == 0:                                     #node is binary operator.\n",
    "            node.value = choice(binery_operators_list)          #note:needs to change!\n",
    "            if node.value in binery_operators_list:\n",
    "                if random()< depth_or_breadth_factor and len(unattached_nodes)>1:          #fill both childs\n",
    "                    child1 = unattached_nodes.pop()\n",
    "                    child2 = unattached_nodes.pop()\n",
    "                    node.left =child1\n",
    "                    node.right =child2\n",
    "                    child2.depth , child1.depth =node.depth +1,node.depth +1\n",
    "                    node.used = 1\n",
    "                    attached_nodes.append(child1)\n",
    "                    attached_nodes.append(child2)\n",
    "                else:                                           #fill one child\n",
    "                    child = unattached_nodes.pop()\n",
    "                    if random()<0.5:\n",
    "                        node.left = child\n",
    "                    else:\n",
    "                        node.right = child\n",
    "                    child.depth =node.depth +1\n",
    "                    node.used =1\n",
    "                    attached_nodes.append(child)\n",
    "            else:                                               #node is unary operator.\n",
    "                child = unattached_nodes.pop()\n",
    "                node.left =child\n",
    "                child.depth =node.depth +1\n",
    "                node.used=1\n",
    "                attached_nodes.append(child)\n",
    "    \n",
    "    # adding values and constants to leaf nodes\n",
    "    for node in attached_nodes:\n",
    "        if node.right ==None :                                  #right node is empty\n",
    "            if random()>value_or_constant_factor:               #fill with constant\n",
    "                temp_value = randint(min_constant_limit , max_constant_limit)\n",
    "                temp_node = Node(value=temp_value ,father=node , depth=node.depth+1)\n",
    "                node.right = temp_node\n",
    "                attached_nodes.append(temp_node)\n",
    "            else:                                               #fill with variable                                  \n",
    "                temp_value = choice(users_variables)\n",
    "                temp_node = Node(value=temp_value ,father=node , depth=node.depth+1)\n",
    "                node.right = temp_node\n",
    "                attached_nodes.append(temp_node)\n",
    "        if node.left ==None :                                   #left node is empty\n",
    "            if random()>value_or_constant_factor:               #fill with constant\n",
    "                temp_value = randint(min_constant_limit , max_constant_limit)\n",
    "                temp_node = Node(value=temp_value ,father=node , depth=node.depth+1)\n",
    "                node.left = temp_node\n",
    "                attached_nodes.append(temp_node)\n",
    "            else:                                               #fill with variable                                  \n",
    "                temp_value = choice(users_variables)\n",
    "                temp_node = Node(value=temp_value ,father=node , depth=node.depth+1)\n",
    "                node.left = temp_node\n",
    "                attached_nodes.append(temp_node)\n",
    "    # nodes = set(attached_nodes)\n",
    "    temp_tree = Tree(root= root_node ,nodes = attached_nodes)\n",
    "    return temp_tree"
   ]
  },
  {
   "cell_type": "code",
   "execution_count": 74,
   "metadata": {},
   "outputs": [
    {
     "name": "stdout",
     "output_type": "stream",
     "text": [
      "random shit for test + 3 [<__main__.Node object at 0x000001CCBB5729A0>, <__main__.Node object at 0x000001CCBB572130>] [<__main__.Node object at 0x000001CCBB572C10>]\n",
      "***\n"
     ]
    },
    {
     "ename": "KeyboardInterrupt",
     "evalue": "",
     "output_type": "error",
     "traceback": [
      "\u001b[1;31m---------------------------------------------------------------------------\u001b[0m",
      "\u001b[1;31mKeyboardInterrupt\u001b[0m                         Traceback (most recent call last)",
      "\u001b[1;32md:\\code ex\\AI\\AI-project\\prj.ipynb Cell 6\u001b[0m in \u001b[0;36m<cell line: 1>\u001b[1;34m()\u001b[0m\n\u001b[1;32m----> <a href='vscode-notebook-cell:/d%3A/code%20ex/AI/AI-project/prj.ipynb#X22sZmlsZQ%3D%3D?line=0'>1</a>\u001b[0m create_random_tree()\n",
      "\u001b[1;32md:\\code ex\\AI\\AI-project\\prj.ipynb Cell 6\u001b[0m in \u001b[0;36mcreate_random_tree\u001b[1;34m()\u001b[0m\n\u001b[0;32m     <a href='vscode-notebook-cell:/d%3A/code%20ex/AI/AI-project/prj.ipynb#X22sZmlsZQ%3D%3D?line=58'>59</a>\u001b[0m \u001b[39melse\u001b[39;00m:                                               \u001b[39m#fill with variable                                  \u001b[39;00m\n\u001b[0;32m     <a href='vscode-notebook-cell:/d%3A/code%20ex/AI/AI-project/prj.ipynb#X22sZmlsZQ%3D%3D?line=59'>60</a>\u001b[0m     temp_value \u001b[39m=\u001b[39m choice(users_variables)\n\u001b[1;32m---> <a href='vscode-notebook-cell:/d%3A/code%20ex/AI/AI-project/prj.ipynb#X22sZmlsZQ%3D%3D?line=60'>61</a>\u001b[0m     temp_node \u001b[39m=\u001b[39m Node(value\u001b[39m=\u001b[39;49mtemp_value ,father\u001b[39m=\u001b[39;49mnode , depth\u001b[39m=\u001b[39;49mnode\u001b[39m.\u001b[39;49mdepth\u001b[39m+\u001b[39;49m\u001b[39m1\u001b[39;49m)\n\u001b[0;32m     <a href='vscode-notebook-cell:/d%3A/code%20ex/AI/AI-project/prj.ipynb#X22sZmlsZQ%3D%3D?line=61'>62</a>\u001b[0m     node\u001b[39m.\u001b[39mleft \u001b[39m=\u001b[39m temp_node\n\u001b[0;32m     <a href='vscode-notebook-cell:/d%3A/code%20ex/AI/AI-project/prj.ipynb#X22sZmlsZQ%3D%3D?line=62'>63</a>\u001b[0m     attached_nodes\u001b[39m.\u001b[39mappend(temp_node)\n",
      "\u001b[1;32md:\\code ex\\AI\\AI-project\\prj.ipynb Cell 6\u001b[0m in \u001b[0;36mNode.__init__\u001b[1;34m(self, value, used, father, right, left, depth)\u001b[0m\n\u001b[0;32m      <a href='vscode-notebook-cell:/d%3A/code%20ex/AI/AI-project/prj.ipynb#X22sZmlsZQ%3D%3D?line=0'>1</a>\u001b[0m \u001b[39mclass\u001b[39;00m \u001b[39mNode\u001b[39;00m():\n\u001b[1;32m----> <a href='vscode-notebook-cell:/d%3A/code%20ex/AI/AI-project/prj.ipynb#X22sZmlsZQ%3D%3D?line=1'>2</a>\u001b[0m     \u001b[39mdef\u001b[39;00m \u001b[39m__init__\u001b[39m(\u001b[39mself\u001b[39m , value\u001b[39m=\u001b[39m\u001b[39mNone\u001b[39;00m ,used\u001b[39m=\u001b[39m\u001b[39m0\u001b[39m, father\u001b[39m=\u001b[39m\u001b[39mNone\u001b[39;00m , right\u001b[39m=\u001b[39m\u001b[39mNone\u001b[39;00m ,left\u001b[39m=\u001b[39m\u001b[39mNone\u001b[39;00m , depth \u001b[39m=\u001b[39m \u001b[39m0\u001b[39m ):\n\u001b[0;32m      <a href='vscode-notebook-cell:/d%3A/code%20ex/AI/AI-project/prj.ipynb#X22sZmlsZQ%3D%3D?line=2'>3</a>\u001b[0m         \u001b[39mself\u001b[39m\u001b[39m.\u001b[39mis_operator \u001b[39m=\u001b[39m value \u001b[39min\u001b[39;00m operators_list\n\u001b[0;32m      <a href='vscode-notebook-cell:/d%3A/code%20ex/AI/AI-project/prj.ipynb#X22sZmlsZQ%3D%3D?line=3'>4</a>\u001b[0m         \u001b[39mself\u001b[39m\u001b[39m.\u001b[39mvalue \u001b[39m=\u001b[39m value\n",
      "\u001b[1;31mKeyboardInterrupt\u001b[0m: "
     ]
    }
   ],
   "source": [
    "create_random_tree()"
   ]
  },
  {
   "cell_type": "code",
   "execution_count": 5,
   "metadata": {},
   "outputs": [],
   "source": [
    "def calculate(node:Node):\n",
    "    # node = tree.root\n",
    "    if node.is_operator:\n",
    "        return f\"( ({calculate(node.left)} ) {node.value} ( {calculate(node.right)}) )\"\n",
    "    return node.value"
   ]
  },
  {
   "cell_type": "markdown",
   "metadata": {},
   "source": [
    "\n",
    "# Failed functions and useless codes"
   ]
  },
  {
   "cell_type": "markdown",
   "metadata": {},
   "source": [
    "##### Instance: (3 * x) + (x-4)\n",
    "#### create tree from : + * - 3 x x 4\n",
    "\n",
    "\n"
   ]
  },
  {
   "cell_type": "code",
   "execution_count": null,
   "metadata": {},
   "outputs": [],
   "source": [
    "# def create_tree(tree:Tree , parse_input:str ):\n",
    "#     inputs = parse_input.split(\" \")\n",
    "#     # twos_submultiples = [2**i for i in range(5) ]\n",
    "#     index = 0\n",
    "#     tree_spaces = []\n",
    "#     # make space for each level and fill them with inputs\n",
    "#     for i in range(5):\n",
    "#         tmp = []\n",
    "#         for j in range(2**i) :\n",
    "#             if index<len(inputs):\n",
    "#                 tmp.append(inputs[index])\n",
    "#                 index +=1\n",
    "#         tree_spaces.append(tmp)\n",
    "#     index = 0\n",
    "#     for i in range(5):\n",
    "#         tmp_index = 0\n",
    "#         tmp_child_detector = \"l\"\n",
    "#         for j in range(i**2):\n",
    "#             if index<len(inputs):\n",
    "#                 if tree_spaces[i][j] in operators_set:\n",
    "#                     if tmp_child_detector ==\"l\":    \n",
    "#                         tmp_child_detector = \"r\"\n",
    "#                     elif tmp_child_detector==\"r\":\n",
    "#                         tmp_child_detector = \"l\""
   ]
  },
  {
   "cell_type": "code",
   "execution_count": 7,
   "metadata": {},
   "outputs": [],
   "source": [
    "# root_node = Node(value=\"+\" )\n",
    "# first_tree = Tree(root_node)\n",
    "# create_tree(first_tree, \"+ * - 3 x x 4\")"
   ]
  },
  {
   "cell_type": "code",
   "execution_count": 8,
   "metadata": {},
   "outputs": [
    {
     "ename": "TypeError",
     "evalue": "add_left_child() missing 1 required positional argument: 'left_val'",
     "output_type": "error",
     "traceback": [
      "\u001b[1;31m---------------------------------------------------------------------------\u001b[0m",
      "\u001b[1;31mTypeError\u001b[0m                                 Traceback (most recent call last)",
      "\u001b[1;32md:\\code ex\\AI\\AI-project\\prj.ipynb Cell 8\u001b[0m in \u001b[0;36m<cell line: 1>\u001b[1;34m()\u001b[0m\n\u001b[1;32m----> <a href='vscode-notebook-cell:/d%3A/code%20ex/AI/AI-project/prj.ipynb#X10sZmlsZQ%3D%3D?line=0'>1</a>\u001b[0m first_tree\u001b[39m.\u001b[39;49madd_left_child(\u001b[39m\"\u001b[39;49m\u001b[39m+\u001b[39;49m\u001b[39m\"\u001b[39;49m)\n\u001b[0;32m      <a href='vscode-notebook-cell:/d%3A/code%20ex/AI/AI-project/prj.ipynb#X10sZmlsZQ%3D%3D?line=1'>2</a>\u001b[0m first_tree\u001b[39m.\u001b[39madd_left_child(\u001b[39m\"\u001b[39m\u001b[39m-\u001b[39m\u001b[39m\"\u001b[39m)\n",
      "\u001b[1;31mTypeError\u001b[0m: add_left_child() missing 1 required positional argument: 'left_val'"
     ]
    }
   ],
   "source": [
    "# first_tree.add_left_child(\"+\")\n",
    "# first_tree.add_left_child(\"-\")"
   ]
  },
  {
   "cell_type": "code",
   "execution_count": null,
   "metadata": {},
   "outputs": [],
   "source": [
    "\"\"\"failed create_tree function \"\"\"\n",
    "# def create_tree(tree:Tree , parse_input:str , root_node:Node):\n",
    "#     current_op = None\n",
    "#     reserved_op = None\n",
    "#     node = root_node\n",
    "#     inputs = list(parse_input.split(\" \"))\n",
    "#     # current_op =inputs[0]  if inputs[0] in operators_set else None\n",
    "#     # reserved_op = inputs[1] if inputs[1] in operators_set else None\n",
    "    \n",
    "#     num_index = 0\n",
    "#     while True:\n",
    "#         if inputs[num_index] not in operators_set :\n",
    "#             num_index +=1\n",
    "#         else :\n",
    "#             break\n",
    "#     op_index =0\n",
    "    \n",
    "#     while(True):\n",
    "#         if (reserved_op in operators_set):\n",
    "#             tree.add_left_child(node , inputs[num_index])\n",
    "#             tree.add_left_child(node , inputs[num_index+1])\n",
    "#             num_index = num_index+2\n",
    "#             if inputs[op_index] in operators_set: \n",
    "#                 node = \n",
    "#                 op_index +=1\n",
    "#             else:\n",
    "#                 break\n"
   ]
  },
  {
   "cell_type": "code",
   "execution_count": null,
   "metadata": {},
   "outputs": [],
   "source": [
    "\"\"\"tree_spaces: [[1] [2] [4] [8]]\"\"\"\n",
    "\n",
    "# tree_spaces = []\n",
    "# for i in range(5):\n",
    "#     tmp = [None for i in range(2**i)]\n",
    "#     tree_spaces.append(tmp)\n",
    "        \n",
    "# tree_spaces "
   ]
  }
 ],
 "metadata": {
  "kernelspec": {
   "display_name": "Python 3.8.10 64-bit",
   "language": "python",
   "name": "python3"
  },
  "language_info": {
   "codemirror_mode": {
    "name": "ipython",
    "version": 3
   },
   "file_extension": ".py",
   "mimetype": "text/x-python",
   "name": "python",
   "nbconvert_exporter": "python",
   "pygments_lexer": "ipython3",
   "version": "3.8.10"
  },
  "orig_nbformat": 4,
  "vscode": {
   "interpreter": {
    "hash": "6a926afa313b26ae1264fdcf81c726a97e69f6ba2ba780f6aa901948710f8d6e"
   }
  }
 },
 "nbformat": 4,
 "nbformat_minor": 2
}
