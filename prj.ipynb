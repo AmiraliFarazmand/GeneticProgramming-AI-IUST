{
 "cells": [
  {
   "cell_type": "code",
   "execution_count": 31,
   "metadata": {},
   "outputs": [],
   "source": [
    "operators_set =set([\"+\" , \"-\" , \"/\" , \"*\"])\n"
   ]
  },
  {
   "cell_type": "code",
   "execution_count": 32,
   "metadata": {},
   "outputs": [],
   "source": [
    "class Node():\n",
    "    def __init__(self , value , father=None , right=None ,left=None , depth = 0 ):\n",
    "        self.is_operator = value in operators_set\n",
    "        self.value = value\n",
    "        self.father =father\n",
    "        self.right = right\n",
    "        self.left = left\n",
    "        self.depth =depth"
   ]
  },
  {
   "cell_type": "code",
   "execution_count": 33,
   "metadata": {},
   "outputs": [],
   "source": [
    "class Tree():\n",
    "    def __init__(self ,  root , MSE = 100000 ):\n",
    "        self.root = root \n",
    "        self.MSE = MSE\n",
    "        self.nodes = set()\n",
    "        self.nodes.add(root)\n",
    "    def add_left_child(self , father_node:Node , left_val:str):\n",
    "        left_node  = Node(value=left_val ,father = father_node)\n",
    "        father_node.left = left_node\n",
    "        left_node.depth = father_node.depth +1\n",
    "        self.nodes.add(left_node)\n",
    "    def add_right_child(self , father_node:Node , right_val:str):\n",
    "        right_node = Node(value=right_val, father = father_node)\n",
    "        father_node.right = right_node\n",
    "        right_node.depth  = father_node.depth +1\n",
    "        self.nodes.add(right_node)\n",
    "    "
   ]
  },
  {
   "cell_type": "code",
   "execution_count": null,
   "metadata": {},
   "outputs": [],
   "source": [
    "def create_tree(tree:Tree , parse_input:str , root_node:Node):\n",
    "    current_op = None\n",
    "    reserved_op = None\n",
    "    node = root_node\n",
    "    inputs = list(parse_input.split(\" \"))\n",
    "    current_op =inputs[0]  if inputs[0] in operators_set else None\n",
    "    reserved_op = inputs[1] if inputs[1] in operators_set else None\n",
    "    index = 1\n",
    "    while(True):\n",
    "        if (reserved_op in operators_set):\n",
    "            tree.add_left_child()"
   ]
  },
  {
   "cell_type": "code",
   "execution_count": 39,
   "metadata": {},
   "outputs": [],
   "source": [
    "def calculate(node:Node):\n",
    "    # node = tree.root\n",
    "    if node.is_operator:\n",
    "        return f\"( ({calculate(node.left)} ) {node.value} ( {calculate(node.right)}) )\"\n",
    "    return node.value"
   ]
  },
  {
   "cell_type": "code",
   "execution_count": 36,
   "metadata": {},
   "outputs": [],
   "source": [
    "root_node = Node(value=\"+\" )\n",
    "first_tree = Tree(root_node)"
   ]
  },
  {
   "cell_type": "code",
   "execution_count": 40,
   "metadata": {},
   "outputs": [
    {
     "ename": "TypeError",
     "evalue": "add_left_child() missing 1 required positional argument: 'left_val'",
     "output_type": "error",
     "traceback": [
      "\u001b[1;31m---------------------------------------------------------------------------\u001b[0m",
      "\u001b[1;31mTypeError\u001b[0m                                 Traceback (most recent call last)",
      "\u001b[1;32md:\\code ex\\AI\\AI-project\\prj.ipynb Cell 6\u001b[0m in \u001b[0;36m<cell line: 1>\u001b[1;34m()\u001b[0m\n\u001b[1;32m----> <a href='vscode-notebook-cell:/d%3A/code%20ex/AI/AI-project/prj.ipynb#X12sZmlsZQ%3D%3D?line=0'>1</a>\u001b[0m first_tree\u001b[39m.\u001b[39;49madd_left_child(\u001b[39m\"\u001b[39;49m\u001b[39m+\u001b[39;49m\u001b[39m\"\u001b[39;49m)\n\u001b[0;32m      <a href='vscode-notebook-cell:/d%3A/code%20ex/AI/AI-project/prj.ipynb#X12sZmlsZQ%3D%3D?line=1'>2</a>\u001b[0m first_tree\u001b[39m.\u001b[39madd_left_child(\u001b[39m\"\u001b[39m\u001b[39m-\u001b[39m\u001b[39m\"\u001b[39m)\n",
      "\u001b[1;31mTypeError\u001b[0m: add_left_child() missing 1 required positional argument: 'left_val'"
     ]
    }
   ],
   "source": [
    "first_tree.add_left_child(\"+\")\n",
    "first_tree.add_left_child(\"-\")"
   ]
  }
 ],
 "metadata": {
  "kernelspec": {
   "display_name": "Python 3.8.10 64-bit",
   "language": "python",
   "name": "python3"
  },
  "language_info": {
   "codemirror_mode": {
    "name": "ipython",
    "version": 3
   },
   "file_extension": ".py",
   "mimetype": "text/x-python",
   "name": "python",
   "nbconvert_exporter": "python",
   "pygments_lexer": "ipython3",
   "version": "3.8.10"
  },
  "orig_nbformat": 4,
  "vscode": {
   "interpreter": {
    "hash": "6a926afa313b26ae1264fdcf81c726a97e69f6ba2ba780f6aa901948710f8d6e"
   }
  }
 },
 "nbformat": 4,
 "nbformat_minor": 2
}
