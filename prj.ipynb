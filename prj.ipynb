{
 "cells": [
  {
   "cell_type": "code",
   "execution_count": 1,
   "metadata": {},
   "outputs": [],
   "source": [
    "operators_set =set([\"+\" , \"-\" , \"/\" , \"*\"])\n",
    "from  random import randint ,choice ,random"
   ]
  },
  {
   "cell_type": "code",
   "execution_count": 2,
   "metadata": {},
   "outputs": [],
   "source": [
    "class Node():\n",
    "    def __init__(self , value , father=None , right=None ,left=None , depth = 0 ):\n",
    "        self.is_operator = value in operators_set\n",
    "        self.value = value\n",
    "        self.father =father\n",
    "        self.right = right\n",
    "        self.left = left\n",
    "        self.depth =depth"
   ]
  },
  {
   "cell_type": "code",
   "execution_count": 3,
   "metadata": {},
   "outputs": [],
   "source": [
    "class Tree():\n",
    "    def __init__(self ,  root ,is_operator, binary_op, MSE = 100000 ):\n",
    "        self.root = root \n",
    "        self.MSE = MSE\n",
    "        binary_op = binary_op\n",
    "        self.nodes = set()\n",
    "        self.nodes.add(root)\n",
    "    def add_left_child(self , father_node:Node , left_val:str):\n",
    "        left_node  = Node(value=left_val ,father = father_node)\n",
    "        father_node.left = left_node\n",
    "        left_node.depth = father_node.depth +1\n",
    "        self.nodes.add(left_node)\n",
    "    def add_right_child(self , father_node:Node , right_val:str):\n",
    "        right_node = Node(value=right_val, father = father_node)\n",
    "        father_node.right = right_node\n",
    "        right_node.depth  = father_node.depth +1\n",
    "        self.nodes.add(right_node)\n",
    "    "
   ]
  },
  {
   "cell_type": "code",
   "execution_count": 5,
   "metadata": {},
   "outputs": [],
   "source": [
    "def create_random_tree(tree:Tree):\n",
    "    num_of_nodes = randint(3,8)\n",
    "    tmp_val = choice(operators_set)\n",
    "    root_node = Node(value=tmp_val)\n",
    "    temp_tree = Tree(root_node)\n",
    "    for i in range(num_of_nodes):\n",
    "        add_bool= random()\n",
    "        if add_bool == True:\n",
    "            pass\n",
    "            \n",
    "    return tree"
   ]
  },
  {
   "cell_type": "markdown",
   "metadata": {},
   "source": [
    "##### Instance: (3 * x) + (x-4)\n",
    "#### create tree from : + * - 3 x x 4\n",
    "\n"
   ]
  },
  {
   "cell_type": "code",
   "execution_count": 13,
   "metadata": {},
   "outputs": [],
   "source": [
    "def create_tree(tree:Tree , parse_input:str ):\n",
    "    inputs = parse_input.split(\" \")\n",
    "    # twos_submultiples = [2**i for i in range(5) ]\n",
    "    index = 0\n",
    "    tree_spaces = []\n",
    "    # make space for each level and fill them with inputs\n",
    "    for i in range(5):\n",
    "        tmp = []\n",
    "        for j in range(2**i) :\n",
    "            if index<len(inputs):\n",
    "                tmp.append(inputs[index])\n",
    "                index +=1\n",
    "        tree_spaces.append(tmp)\n",
    "    index = 0\n",
    "    for i in range(5):\n",
    "        tmp_index = 0\n",
    "        tmp_child_detector = \"l\"\n",
    "        for j in range(i**2):\n",
    "            if index<len(inputs):\n",
    "                if tree_spaces[i][j] in operators_set:\n",
    "                    if tmp_child_detector ==\"l\":    \n",
    "                        tmp_child_detector = \"r\"\n",
    "                    elif tmp_child_detector==\"r\":\n",
    "                        tmp_child_detector = \"l\""
   ]
  },
  {
   "cell_type": "code",
   "execution_count": 5,
   "metadata": {},
   "outputs": [],
   "source": [
    "def calculate(node:Node):\n",
    "    # node = tree.root\n",
    "    if node.is_operator:\n",
    "        return f\"( ({calculate(node.left)} ) {node.value} ( {calculate(node.right)}) )\"\n",
    "    return node.value"
   ]
  },
  {
   "cell_type": "markdown",
   "metadata": {},
   "source": [
    "\n",
    "# Failed functions and useless codes"
   ]
  },
  {
   "cell_type": "code",
   "execution_count": 7,
   "metadata": {},
   "outputs": [],
   "source": [
    "root_node = Node(value=\"+\" )\n",
    "first_tree = Tree(root_node)\n",
    "create_tree(first_tree, \"+ * - 3 x x 4\")"
   ]
  },
  {
   "cell_type": "code",
   "execution_count": 8,
   "metadata": {},
   "outputs": [
    {
     "ename": "TypeError",
     "evalue": "add_left_child() missing 1 required positional argument: 'left_val'",
     "output_type": "error",
     "traceback": [
      "\u001b[1;31m---------------------------------------------------------------------------\u001b[0m",
      "\u001b[1;31mTypeError\u001b[0m                                 Traceback (most recent call last)",
      "\u001b[1;32md:\\code ex\\AI\\AI-project\\prj.ipynb Cell 8\u001b[0m in \u001b[0;36m<cell line: 1>\u001b[1;34m()\u001b[0m\n\u001b[1;32m----> <a href='vscode-notebook-cell:/d%3A/code%20ex/AI/AI-project/prj.ipynb#X10sZmlsZQ%3D%3D?line=0'>1</a>\u001b[0m first_tree\u001b[39m.\u001b[39;49madd_left_child(\u001b[39m\"\u001b[39;49m\u001b[39m+\u001b[39;49m\u001b[39m\"\u001b[39;49m)\n\u001b[0;32m      <a href='vscode-notebook-cell:/d%3A/code%20ex/AI/AI-project/prj.ipynb#X10sZmlsZQ%3D%3D?line=1'>2</a>\u001b[0m first_tree\u001b[39m.\u001b[39madd_left_child(\u001b[39m\"\u001b[39m\u001b[39m-\u001b[39m\u001b[39m\"\u001b[39m)\n",
      "\u001b[1;31mTypeError\u001b[0m: add_left_child() missing 1 required positional argument: 'left_val'"
     ]
    }
   ],
   "source": [
    "first_tree.add_left_child(\"+\")\n",
    "first_tree.add_left_child(\"-\")"
   ]
  },
  {
   "cell_type": "code",
   "execution_count": null,
   "metadata": {},
   "outputs": [],
   "source": [
    "\"\"\"failed create_tree function \"\"\"\n",
    "# def create_tree(tree:Tree , parse_input:str , root_node:Node):\n",
    "#     current_op = None\n",
    "#     reserved_op = None\n",
    "#     node = root_node\n",
    "#     inputs = list(parse_input.split(\" \"))\n",
    "#     # current_op =inputs[0]  if inputs[0] in operators_set else None\n",
    "#     # reserved_op = inputs[1] if inputs[1] in operators_set else None\n",
    "    \n",
    "#     num_index = 0\n",
    "#     while True:\n",
    "#         if inputs[num_index] not in operators_set :\n",
    "#             num_index +=1\n",
    "#         else :\n",
    "#             break\n",
    "#     op_index =0\n",
    "    \n",
    "#     while(True):\n",
    "#         if (reserved_op in operators_set):\n",
    "#             tree.add_left_child(node , inputs[num_index])\n",
    "#             tree.add_left_child(node , inputs[num_index+1])\n",
    "#             num_index = num_index+2\n",
    "#             if inputs[op_index] in operators_set: \n",
    "#                 node = \n",
    "#                 op_index +=1\n",
    "#             else:\n",
    "#                 break\n"
   ]
  },
  {
   "cell_type": "code",
   "execution_count": null,
   "metadata": {},
   "outputs": [],
   "source": [
    "\"\"\"tree_spaces: [[1] [2] [4] [8]]\"\"\"\n",
    "\n",
    "# tree_spaces = []\n",
    "# for i in range(5):\n",
    "#     tmp = [None for i in range(2**i)]\n",
    "#     tree_spaces.append(tmp)\n",
    "        \n",
    "# tree_spaces "
   ]
  }
 ],
 "metadata": {
  "kernelspec": {
   "display_name": "Python 3.8.10 64-bit",
   "language": "python",
   "name": "python3"
  },
  "language_info": {
   "codemirror_mode": {
    "name": "ipython",
    "version": 3
   },
   "file_extension": ".py",
   "mimetype": "text/x-python",
   "name": "python",
   "nbconvert_exporter": "python",
   "pygments_lexer": "ipython3",
   "version": "3.8.10"
  },
  "orig_nbformat": 4,
  "vscode": {
   "interpreter": {
    "hash": "6a926afa313b26ae1264fdcf81c726a97e69f6ba2ba780f6aa901948710f8d6e"
   }
  }
 },
 "nbformat": 4,
 "nbformat_minor": 2
}
