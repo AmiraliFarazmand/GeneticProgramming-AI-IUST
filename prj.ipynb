{
 "cells": [
  {
   "cell_type": "code",
   "execution_count": 23,
   "metadata": {},
   "outputs": [],
   "source": [
    "# imports:\n",
    "from  random import randint ,choice ,random ,choices\n",
    "import numpy as np\n",
    "import copy \n",
    "from math import floor\n",
    "# from sklearn.metrics import mean_squared_error\n",
    "# from math import inf\n",
    "# import pysnooper"
   ]
  },
  {
   "cell_type": "code",
   "execution_count": 24,
   "metadata": {},
   "outputs": [],
   "source": [
    "# global variables:\n",
    "unary_operators_list =list([\"sin\" , \"cos\" , \"tan\" , \"cot\" , \"exp\" ])\n",
    "binary_operators_list =list([\"+\" , \"-\" , \"/\" , \"*\" , \"**\"])\n",
    "\n",
    "# user's values:\n",
    "operators_list =[\"+\" , \"-\" ]*5+\\\n",
    "[\"/\" , \"*\" ]* 4 +\\\n",
    "[ \"**\"  ]*0 +\\\n",
    "[ \"sin\" ,\"cos\" , \"tan\" , \"cot\" , \"exp\"]*0   #user can change the quantity of operators based on function determination of complexity.\n",
    "users_variables = [\"x\"]             #what variables our function does have\n",
    "min_operatos_num = 1                #determine how many operators do we need in our function(create n operators between these 2 variables.)\n",
    "max_operatos_num =5\n",
    "variable_or_constant_factor = 0.3   #a factor that determines to use constant or a variale in leaf node of the tree .the closer value to 0 the more constants will appear in your function.(must be between 0 and1)\n",
    "depth_or_breadth_factor = 0.5       #a factor that determines to fill both sides of the operator on not. the more closer to 0 tree will get filled in breadth not depth. (must be between 0 and1)\n",
    "                                    # for example: closer to 0: (((x*10)+2)-5)/3      closer to 1: ((x*10)+2) - ((x-5)\\3)\n",
    "min_constant_limit = 0              #determine that constants must be in what period.\n",
    "max_constant_limit =50            \n",
    "num_of_population_in_a_gen = 50     #how many trees should be included in each generation.\n",
    "num_of_gens =3                      #how many geneerations should be excluded\n",
    "# function values:\n",
    "sample_values = {                   #user must enter some values in spots to \n",
    "    \"x\" : [i for i in range(1 , 10)] ,\n",
    "    # \"outputs\" : [0,1,4,9,16]        #can be skipped with replacing function in function below.\n",
    "}\n",
    "real_function_str = \"x**2 + 1 \"      #what function is."
   ]
  },
  {
   "cell_type": "code",
   "execution_count": 25,
   "metadata": {},
   "outputs": [],
   "source": [
    "# funtion to  fill sample[\"output\"] for 1 variable:\n",
    "def fill_sample_output(func_str = real_function_str):\n",
    "    temp_list = []\n",
    "    for x_val in sample_values[\"x\"]:\n",
    "        temp_str = func_str.replace(\"x\" , str(x_val))\n",
    "        temp_val =eval(temp_str)\n",
    "        temp_list.append(temp_val)\n",
    "    sample_values[\"outputs\"]  =temp_list\n",
    "    # return temp_list"
   ]
  },
  {
   "cell_type": "code",
   "execution_count": 26,
   "metadata": {},
   "outputs": [],
   "source": [
    "fill_sample_output()"
   ]
  },
  {
   "cell_type": "code",
   "execution_count": 27,
   "metadata": {},
   "outputs": [],
   "source": [
    "class Node():\n",
    "    def __init__(self , value=None , used=0, father=None , right=None ,left=None , depth = 0 ):\n",
    "        self.father =father\n",
    "        self.right = right\n",
    "        self.left = left\n",
    "        self.depth =depth\n",
    "        self.used = used\n",
    "        self._value = value\n",
    "        # self.is_operator = new_value in operators_list\n",
    "        self.is_op()\n",
    "        self.is_binary_op()\n",
    "    \n",
    "    def set_random_op(self):\n",
    "        new_value= choice(operators_list)                \n",
    "        self.value=new_value \n",
    "    def is_binary_op(self):\n",
    "        self.is_binary = self.value in binary_operators_list\n",
    "    def is_op(self  ):\n",
    "        self.is_operator = self.value in operators_list\n",
    "    \n",
    "    @property\n",
    "    def value(self):\n",
    "        return self._value \n",
    "    @value.setter\n",
    "    def value(self, new_value=None):\n",
    "        self._value = new_value\n",
    "        self.is_operator = new_value in operators_list\n",
    "        self.is_binary = new_value in binary_operators_list\n",
    "        # self.is_binary()\n",
    "        # self.is_op()\n",
    "        \n",
    "    def __repr__(self) -> str:\n",
    "        return f\"(V:{self.value} L:{self.left} R:{self.right})\"\n",
    "    def __str__(self) -> str:\n",
    "        if self.left == None and self.right==None :                                          #constant or variable\n",
    "            return str(self.value)\n",
    "        elif self.value in binary_operators_list:                                            #binary operator\n",
    "            return  f\"({self.left} {self.value} {self.right})\"\n",
    "        else:                                                                                #unary operator                                        \n",
    "            return f\"{self.value} ({self.left}) \""
   ]
  },
  {
   "cell_type": "code",
   "execution_count": 28,
   "metadata": {},
   "outputs": [],
   "source": [
    "class Tree():\n",
    "    def __init__(self ,  root:Node , nodes:list , MSE = -100000 ):\n",
    "        self.root = root \n",
    "        self.MSE = MSE\n",
    "        self.nodes = list(nodes)\n",
    "        # self.nodes.append(root)\n",
    "        \n",
    "    def remove_node(self , node:Node):  #note that should handle node's father outside of this function \n",
    "        if node.left==None:\n",
    "            self.nodes.remove(node)\n",
    "            pass\n",
    "        else:\n",
    "            self.nodes.remove(node)\n",
    "            self.remove_node(node.left)\n",
    "            self.remove_node(node.right) \n",
    "    \n",
    "    def add_node(self , node:Node): #note that should handle node's father outside of this function\n",
    "        if node.left==None:\n",
    "            self.nodes.append(node)\n",
    "            pass\n",
    "        else:\n",
    "            self.nodes.append(node)\n",
    "            self.add_node(node.left)\n",
    "            self.add_node(node.right)\n",
    "        \n",
    "    def replace_node(self ,node_to_replace:Node , node_that_will_be:Node):  \n",
    "        father_node = node_to_replace.father\n",
    "        target_node = copy.deepcopy(node_that_will_be)\n",
    "        target_node.father = father_node\n",
    "        if not father_node==\"is_root\": \n",
    "            if father_node.right==node_to_replace :\n",
    "                father_node.right = target_node\n",
    "            else:\n",
    "                father_node.left = target_node\n",
    "        for node in self.nodes:\n",
    "            if node == node_to_replace:\n",
    "                self.nodes.remove(node)\n",
    "        self.add_node(target_node)\n",
    "        \n",
    "    def mutate(self):\n",
    "        print(\"Mutated!!!\")\n",
    "        node = choice(self.nodes)\n",
    "        if node.left==None:\n",
    "            if random()>0.2:\n",
    "                node.value = randint(min_constant_limit ,max_constant_limit)\n",
    "            else:\n",
    "                node.value = choice(users_variables)\n",
    "        else:\n",
    "            node.value = choice(operators_list)\n",
    "    \n",
    "    def evaluate(self ,x_val ,node:Node = None ):\n",
    "        if node == None:\n",
    "            node = self.root\n",
    "        # if node.is_operator and node.is_binary :                                                #**note that it doesnt work on unary operators yet!\n",
    "        #     if node.value ==\"+\":    \n",
    "        #         return np.add(self.evaluate(node.left) , self.evaluate(node.right))\n",
    "        #     elif node.value == \"-\" :\n",
    "        #         return np.subtract(self.evaluate(node.left) , self.evaluate(node.right))\n",
    "        #     elif node.value ==\"/\":\n",
    "        #         return np.multiply(self.evaluate(node.left) , self.evaluate(node.right))\n",
    "        #     elif node.value == \"*\":\n",
    "        #         return np.multiply(self.evaluate(node.left) , self.evaluate(node.right))\n",
    "        #     elif node.value == \"**\":\n",
    "        #         return np.multiply(self.evaluate(node.left) , self.evaluate(node.right))\n",
    "        # elif not node.is_operator and not node.is_binary:\n",
    "        #     if node.value not in users_variables:\n",
    "        #         return np.single(node.value)\n",
    "        #     else:\n",
    "        #         return np.single(x_val)\n",
    "        if node.is_operator and node.is_binary :                                                #**note that it doesnt work on unary operators yet!\n",
    "            if node.value ==\"+\":    \n",
    "                return (self.evaluate(node.left) + self.evaluate(node.right))\n",
    "            elif node.value == \"-\" :\n",
    "                return (self.evaluate(node.left) - self.evaluate(node.right))\n",
    "            elif node.value ==\"/\":\n",
    "                return (self.evaluate(node.left) / self.evaluate(node.right))\n",
    "            elif node.value == \"*\":\n",
    "                return (self.evaluate(node.left) * self.evaluate(node.right))\n",
    "            elif node.value == \"**\":\n",
    "                return (self.evaluate(node.left) ** self.evaluate(node.right))\n",
    "        else:\n",
    "            if node.value not in users_variables:\n",
    "                # return np.single(node.value)\n",
    "                return float(node.value)\n",
    "            else:\n",
    "                return float(x_val)\n",
    "            \n",
    "                \n",
    "    def __repr__(self) -> str:\n",
    "        return f\"tree[ {self.root} ] \"\n",
    "    def __str__(self) -> str:\n",
    "        return f\"{self.root}\""
   ]
  },
  {
   "cell_type": "code",
   "execution_count": 29,
   "metadata": {},
   "outputs": [],
   "source": [
    "def create_random_tree():\n",
    "    num_of_ops = randint(min_operatos_num , max_operatos_num)\n",
    "    unattached_nodes =list([Node() for _ in range(num_of_ops-1)])\n",
    "    root_node = Node(father=\"is_root\",used=0 ,depth=0,value=choice(operators_list))          \n",
    "    attached_nodes= list([root_node])                                                                       #a node gets attached when it has a parent\n",
    "    # creating a random tree with operators:\n",
    "    # print(\"test r:\",root_node ,\"n.o.o:\",num_of_ops , \"a:\", attached_nodes , \"u:\" , unattached_nodes )     #>>>for logging\n",
    "    while unattached_nodes !=[]:\n",
    "        # print(\"***first loop\")                                                                            #>>>for logging\n",
    "        node =choice(attached_nodes)\n",
    "        if node.used == 0:                                                                                  #node is binary operator.\n",
    "            if node.value == None:                                                                          #sometimes it is already set in previous loop.\n",
    "                node.value = choice(operators_list)            \n",
    "            if node.value in binary_operators_list:\n",
    "                if random()< depth_or_breadth_factor and len(unattached_nodes)>1:                           #fill both childs\n",
    "                    child1 = unattached_nodes.pop()\n",
    "                    child2 = unattached_nodes.pop()\n",
    "                    child1.set_random_op()\n",
    "                    child2.set_random_op()\n",
    "                    node.left =child1\n",
    "                    node.right =child2\n",
    "                    child2.depth , child1.depth =node.depth +1,node.depth +1\n",
    "                    child1.father , child2.father = node  , node\n",
    "                    node.used = 1\n",
    "                    attached_nodes.append(child1)\n",
    "                    attached_nodes.append(child2)\n",
    "                else:                                                                                       #fill one child\n",
    "                    child = unattached_nodes.pop()\n",
    "                    child.set_random_op()\n",
    "                    if random()<0.5:\n",
    "                        node.left = child\n",
    "                    else:\n",
    "                        node.right = child\n",
    "                    child.depth =node.depth +1\n",
    "                    node.used =1\n",
    "                    child.father = node\n",
    "                    attached_nodes.append(child)\n",
    "            else:                                                                                          #node is unary operator.\n",
    "                child = unattached_nodes.pop()\n",
    "                child.set_random_op()\n",
    "                node.left =child\n",
    "                child.depth =node.depth +1\n",
    "                node.used=1\n",
    "                child.father = node\n",
    "                attached_nodes.append(child)\n",
    "    # print(\"after op nodes set: a:\" ,attached_nodes ,\"u:\",unattached_nodes )                              #>>>for logging\n",
    "    new_attached_nodes = []\n",
    "    # adding values and constants to leaf nodes\n",
    "    for node in attached_nodes:\n",
    "        # print(\"in second loop; a:\" ,attached_nodes ,\"u:\",unattached_nodes )                              #>>>for logging\n",
    "        if node.right ==None :                                                                             #right node is empty  \n",
    "            choose_const_or_var = random()                                                                 # **note:think that it woulld get into troubles when it comes to unary operators.\n",
    "            if  choose_const_or_var>variable_or_constant_factor:                                           #fill with constant\n",
    "                temp_value = randint(min_constant_limit , max_constant_limit)                                                           \n",
    "                temp_node = Node(value=temp_value ,father=node , depth=node.depth+1)                        \n",
    "                node.right = temp_node\n",
    "                new_attached_nodes.append(temp_node)\n",
    "            else:                                                                                          #fill with variable                                  \n",
    "                temp_value = choice(users_variables)\n",
    "                temp_node = Node(value=temp_value ,father=node , depth=node.depth+1)\n",
    "                node.right = temp_node\n",
    "                new_attached_nodes.append(temp_node)\n",
    "        if node.left ==None :                                                                              #left node is empty\n",
    "            choose_const_or_var = random()\n",
    "            if choose_const_or_var>variable_or_constant_factor:                                            #fill with constant\n",
    "                temp_value = randint(min_constant_limit , max_constant_limit)\n",
    "                temp_node = Node(value=temp_value ,father=node , depth=node.depth+1)\n",
    "                node.left = temp_node\n",
    "                new_attached_nodes.append(temp_node)\n",
    "            else:                                                                                          #fill with variable                                  \n",
    "                temp_value = choice(users_variables)\n",
    "                temp_node = Node(value=temp_value ,father=node , depth=node.depth+1)\n",
    "                node.left = temp_node\n",
    "                new_attached_nodes.append(temp_node)\n",
    "    nodes  = list(attached_nodes + new_attached_nodes)\n",
    "    # print(\"len:\",len(nodes),\"nodes:\",nodes)   \\n\",                                                       #>>>for logging\n",
    "    temp_tree = Tree(root= root_node ,nodes = nodes)\n",
    "    # print( \"at last a:\" ,attached_nodes ,\"u:\",unattached_nodes )                                         #>>>for logging\n",
    "    \n",
    "    return temp_tree"
   ]
  },
  {
   "cell_type": "code",
   "execution_count": 30,
   "metadata": {},
   "outputs": [],
   "source": [
    "def create_generation(num_of_population =num_of_population_in_a_gen ):\n",
    "    trees_list_this_gen = []\n",
    "    # create the genaration from create_random_tree()\n",
    "    for i in range(num_of_population):\n",
    "        temp_tree = create_random_tree()\n",
    "        trees_list_this_gen.append(temp_tree)\n",
    "    return trees_list_this_gen"
   ]
  },
  {
   "cell_type": "code",
   "execution_count": 58,
   "metadata": {},
   "outputs": [],
   "source": [
    "def find_outputs_of_tree(tree:Tree):\n",
    "    \"\"\"a function that returns a list of answers of the tree in a list format. (uses for one tree)\"\"\"\n",
    "    answers_list = []\n",
    "    for x_val in sample_values[\"x\"]:\n",
    "        try:\n",
    "            func_str =  str(tree).replace(\"x\" ,str(x_val))\n",
    "            temp_ans = eval(func_str)\n",
    "            # temp_ans = tree.evaluate(x_val , node = tree.root)\n",
    "            answers_list.append(temp_ans)\n",
    "            # print(\"for logging:\" , tree ,\"|||\",x_val , answers_list )                                               #>>>for logging\n",
    "        except ZeroDivisionError:                   #because of division by zero error used this exception.\n",
    "            answers_list.append(- np.inf)\n",
    "        except :\n",
    "            print(\"ambigues exception was : \", func_str  )\n",
    "    return answers_list"
   ]
  },
  {
   "cell_type": "code",
   "execution_count": 32,
   "metadata": {},
   "outputs": [],
   "source": [
    "def find_fitness(functions_answers , real_answers=sample_values[\"outputs\"]):\n",
    "    \"\"\"a function that returns fitness of a tree . the real function is saved in a global dictionary named sample_values[\"outpusts\"]\"\"\"\n",
    "    try:\n",
    "        # fitness = -1* mean_squared_error(real_answers, functions_answers)\n",
    "        fitness = np.single( np.multiply(-1 ,  np.square(np.subtract(real_answers,functions_answers)).mean()))  #MSE\n",
    "        # if fitness >10000: fitness = 1000\n",
    "        # fitness = -1* fitness\n",
    "        ## if fitness == 0:\n",
    "        ##     fitness=inf\n",
    "    except :   \n",
    "        # print(\"exception was : \" , )                                                                                 \n",
    "        # raise ValueError(\"MSE function did not worked correctly.\")\n",
    "        fitness  = -1000000\n",
    "    return fitness"
   ]
  },
  {
   "cell_type": "code",
   "execution_count": 33,
   "metadata": {},
   "outputs": [],
   "source": [
    "def crossover(tree1:Tree ,tree2:Tree ):\n",
    "    \"\"\"a function that produces 2 children from 2 trees and rarely mutate them.\"\"\"\n",
    "    child_1 = copy.deepcopy(tree1)\n",
    "    child_2 = copy.deepcopy(tree2)\n",
    "    node_1 = choice(child_1.nodes)\n",
    "    node_2 = choice(child_2.nodes)\n",
    "    print(node_1, node_2)\n",
    "    child_1.replace_node(node_to_replace= node_1  , node_that_will_be=node_2)\n",
    "    child_2.replace_node(node_to_replace= node_2 , node_that_will_be=node_1)\n",
    "    if random()>0.95:\n",
    "        child_1.mutate()\n",
    "    if random()>0.95:\n",
    "        child_2.mutate()\n",
    "    return child_1 , child_2   \n"
   ]
  },
  {
   "cell_type": "code",
   "execution_count": 34,
   "metadata": {},
   "outputs": [],
   "source": [
    "def select_to_crossover():\n",
    "    pass"
   ]
  },
  {
   "cell_type": "code",
   "execution_count": 63,
   "metadata": {},
   "outputs": [
    {
     "name": "stdout",
     "output_type": "stream",
     "text": [
      "good tree with fitness:55741308.0 found: (((18 * 11) * (45 - 38)) * 47)\n",
      "good tree with fitness:868113408.0 found: (((48 - x) * 35) * 33)\n"
     ]
    }
   ],
   "source": [
    "\"\"\"cell that handles the crossovers with functions that defined. \"\"\"\n",
    "for gen in range(num_of_gens-1):\n",
    "    trees_in_gen = create_generation()                                                                               #first generation\n",
    "    fitness_list = []   #uses as weight in choice()\n",
    "    # print(trees_in_gen)\n",
    "    for tree in trees_in_gen:\n",
    "        trees_func_answers = find_outputs_of_tree(tree)\n",
    "        trees_fitness = find_fitness(trees_func_answers)\n",
    "        # print(\"fitness:{} tree:\".format(trees_fitness) , tree)                                          #>>>for logging\n",
    "        if trees_fitness >=0: print(\"good tree with fitness:{} found:\".format(trees_fitness) , tree)  #>>>for logging . IDK why some fitnesses are big positive integers.\n",
    "        fitness_list.append(trees_fitness) \n",
    "    new_gen = []\n",
    "    parents_who_survive = choices(trees_in_gen , weights=fitness_list,k=floor(0.2*num_of_population_in_a_gen))       #parent trees that should be in new generation \n",
    "    new_gen+=parents_who_survive\n",
    "    for _ in range(floor(0.8*num_of_population_in_a_gen)):\n",
    "        tree_1 , tree_2 = choices(trees_in_gen , weights = fitness_list , k=2)\n",
    "\n"
   ]
  },
  {
   "cell_type": "code",
   "execution_count": 36,
   "metadata": {},
   "outputs": [
    {
     "name": "stdout",
     "output_type": "stream",
     "text": [
      "(((30 + 25) + 28) * 49)~~~~~~~((39 * x) + ((21 + 46) * (22 / 17)))\n"
     ]
    }
   ],
   "source": [
    "sample_tree1 = create_random_tree()\n",
    "sample_tree2 = create_random_tree()\n",
    "print(sample_tree1 , sample_tree2,sep=\"~~~~~~~\")"
   ]
  },
  {
   "cell_type": "code",
   "execution_count": 37,
   "metadata": {},
   "outputs": [
    {
     "name": "stdout",
     "output_type": "stream",
     "text": [
      "-16276546.0 (((30 + 25) + 28) * 49)\n",
      "-67661.42 ((39 * x) + ((21 + 46) * (22 / 17)))\n"
     ]
    }
   ],
   "source": [
    "f1 = find_fitness(functions_answers=find_outputs_of_tree(sample_tree1))\n",
    "f2 = find_fitness(functions_answers=find_outputs_of_tree(sample_tree2))\n",
    "print(f1 ,sample_tree1)\n",
    "print(f2 ,sample_tree2)"
   ]
  },
  {
   "cell_type": "code",
   "execution_count": 38,
   "metadata": {},
   "outputs": [
    {
     "name": "stdout",
     "output_type": "stream",
     "text": [
      "(((30 + 25) + 28) * 49) 46\n"
     ]
    }
   ],
   "source": [
    "child_1 , child_2 =crossover(sample_tree1, sample_tree2)"
   ]
  },
  {
   "cell_type": "code",
   "execution_count": 39,
   "metadata": {},
   "outputs": [
    {
     "name": "stdout",
     "output_type": "stream",
     "text": [
      "(((30 + 25) + 28) * 49)~~~~~~~((39 * x) + ((21 + (((30 + 25) + 28) * 49)) * (22 / 17)))\n"
     ]
    }
   ],
   "source": [
    "print(child_1  , child_2 ,sep=\"~~~~~~~\")"
   ]
  },
  {
   "cell_type": "markdown",
   "metadata": {},
   "source": [
    "\n",
    "# Failed functions and useless codes\n",
    "----------------------------"
   ]
  },
  {
   "cell_type": "code",
   "execution_count": null,
   "metadata": {},
   "outputs": [],
   "source": [
    "# def calculate(node:Node):\n",
    "#     # node = tree.root\n",
    "#     if node.is_operator:\n",
    "#         return f\"( ({calculate(node.left)} ) {node.value} ( {calculate(node.right)}) )\"\n",
    "#     return node.value"
   ]
  },
  {
   "cell_type": "code",
   "execution_count": null,
   "metadata": {},
   "outputs": [],
   "source": [
    "# def create_tree(tree:Tree , parse_input:str ):\n",
    "#     inputs = parse_input.split(\" \")\n",
    "#     # twos_submultiples = [2**i for i in range(5) ]\n",
    "#     index = 0\n",
    "#     tree_spaces = []\n",
    "#     # make space for each level and fill them with inputs\n",
    "#     for i in range(5):\n",
    "#         tmp = []\n",
    "#         for j in range(2**i) :\n",
    "#             if index<len(inputs):\n",
    "#                 tmp.append(inputs[index])\n",
    "#                 index +=1\n",
    "#         tree_spaces.append(tmp)\n",
    "#     index = 0\n",
    "#     for i in range(5):\n",
    "#         tmp_index = 0\n",
    "#         tmp_child_detector = \"l\"\n",
    "#         for j in range(i**2):\n",
    "#             if index<len(inputs):\n",
    "#                 if tree_spaces[i][j] in operators_set:\n",
    "#                     if tmp_child_detector ==\"l\":    \n",
    "#                         tmp_child_detector = \"r\"\n",
    "#                     elif tmp_child_detector==\"r\":\n",
    "#                         tmp_child_detector = \"l\""
   ]
  },
  {
   "cell_type": "code",
   "execution_count": null,
   "metadata": {},
   "outputs": [],
   "source": [
    "# root_node = Node(value=\"+\" )\n",
    "# first_tree = Tree(root_node)\n",
    "# create_tree(first_tree, \"+ * - 3 x x 4\")"
   ]
  },
  {
   "cell_type": "code",
   "execution_count": null,
   "metadata": {},
   "outputs": [],
   "source": [
    "# first_tree.add_left_child(\"+\")\n",
    "# first_tree.add_left_child(\"-\")"
   ]
  },
  {
   "cell_type": "code",
   "execution_count": null,
   "metadata": {},
   "outputs": [],
   "source": [
    "\"\"\"failed create_tree function \"\"\"\n",
    "# def create_tree(tree:Tree , parse_input:str , root_node:Node):\n",
    "#     current_op = None\n",
    "#     reserved_op = None\n",
    "#     node = root_node\n",
    "#     inputs = list(parse_input.split(\" \"))\n",
    "#     # current_op =inputs[0]  if inputs[0] in operators_set else None\n",
    "#     # reserved_op = inputs[1] if inputs[1] in operators_set else None\n",
    "    \n",
    "#     num_index = 0\n",
    "#     while True:\n",
    "#         if inputs[num_index] not in operators_set :\n",
    "#             num_index +=1\n",
    "#         else :\n",
    "#             break\n",
    "#     op_index =0\n",
    "    \n",
    "#     while(True):\n",
    "#         if (reserved_op in operators_set):\n",
    "#             tree.add_left_child(node , inputs[num_index])\n",
    "#             tree.add_left_child(node , inputs[num_index+1])\n",
    "#             num_index = num_index+2\n",
    "#             if inputs[op_index] in operators_set: \n",
    "#                 node = \n",
    "#                 op_index +=1\n",
    "#             else:\n",
    "#                 break\n"
   ]
  },
  {
   "cell_type": "code",
   "execution_count": null,
   "metadata": {},
   "outputs": [],
   "source": [
    "\"\"\"tree_spaces: [[1] [2] [4] [8]]\"\"\"\n",
    "\n",
    "# tree_spaces = []\n",
    "# for i in range(5):\n",
    "#     tmp = [None for i in range(2**i)]\n",
    "#     tree_spaces.append(tmp)\n",
    "        \n",
    "# tree_spaces "
   ]
  }
 ],
 "metadata": {
  "kernelspec": {
   "display_name": "Python 3.8.10 64-bit",
   "language": "python",
   "name": "python3"
  },
  "language_info": {
   "codemirror_mode": {
    "name": "ipython",
    "version": 3
   },
   "file_extension": ".py",
   "mimetype": "text/x-python",
   "name": "python",
   "nbconvert_exporter": "python",
   "pygments_lexer": "ipython3",
   "version": "3.8.10"
  },
  "orig_nbformat": 4,
  "vscode": {
   "interpreter": {
    "hash": "6a926afa313b26ae1264fdcf81c726a97e69f6ba2ba780f6aa901948710f8d6e"
   }
  }
 },
 "nbformat": 4,
 "nbformat_minor": 2
}
